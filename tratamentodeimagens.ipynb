{
 "cells": [
  {
   "cell_type": "code",
   "execution_count": null,
   "metadata": {},
   "outputs": [],
   "source": []
  }
 ],
 "metadata": {
  "kernelspec": {
   "display_name": "Python 3.8.10 ('envpicture': venv)",
   "language": "python",
   "name": "python3"
  },
  "language_info": {
   "name": "python",
   "version": "3.8.10"
  },
  "orig_nbformat": 4,
  "vscode": {
   "interpreter": {
    "hash": "e3ebd3bfc836c638304e97b16910d35aa25f36c706913b362e63dc1cf67b3864"
   }
  }
 },
 "nbformat": 4,
 "nbformat_minor": 2
}
